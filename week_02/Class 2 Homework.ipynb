{
 "cells": [
  {
   "cell_type": "markdown",
   "metadata": {},
   "source": [
    "# 📚 Week 2 – Data Collection & Extraction"
   ]
  },
  {
   "cell_type": "markdown",
   "metadata": {},
   "source": [
    "## 📝 Tesseract OCR Guide\n",
    "\n",
    "Tesseract is an open-source Optical Character Recognition (OCR) engine developed by Google. It is used to convert scanned images, PDFs, and images with text into machine-readable text. Tesseract supports more than 100 languages, including complex scripts like Arabic, Chinese, and many others.\n",
    "\n",
    "---\n",
    "\n",
    "## 🔧 Installation\n",
    "\n",
    "### **Installing Tesseract on Different Platforms**\n",
    "\n",
    "1. **On macOS** (using Homebrew):\n",
    "    ```bash\n",
    "    brew install tesseract\n",
    "    ```\n",
    "\n",
    "2. **On Ubuntu/Debian**:\n",
    "    ```bash\n",
    "    sudo apt update\n",
    "    sudo apt install tesseract-ocr\n",
    "    ```\n",
    "\n",
    "3. **On Windows**:\n",
    "    - Download the Tesseract installer from the [Tesseract GitHub releases](https://github.com/tesseract-ocr/tesseract/releases).\n",
    "    - Follow the installation instructions, and ensure to add Tesseract to your system’s `PATH`.\n",
    "\n",
    "---\n",
    "\n",
    "## 🛠️ Basic Usage\n",
    "\n",
    "Once Tesseract is installed, you can use it either from the command line or by using the Python wrapper `pytesseract`.\n",
    "\n",
    "### **Command Line Usage**\n",
    "\n",
    "To perform OCR on an image:\n",
    "```bash\n",
    "tesseract image.png output.txt\n"
   ]
  },
  {
   "cell_type": "markdown",
   "metadata": {},
   "source": [
    "## Use Tesseract with python"
   ]
  },
  {
   "cell_type": "code",
   "execution_count": 1,
   "metadata": {},
   "outputs": [
    {
     "name": "stdout",
     "output_type": "stream",
     "text": [
      "PATH=c:\\Users\\johnny\\AppData\\Local\\Microsoft\\WindowsApps;c:\\Users\\johnny\\AppData\\Local\\Packages\\PythonSoftwareFoundation.Python.3.11_qbz5n2kfra8p0\\LocalCache\\local-packages\\Python311\\Scripts;C:\\Program Files\\NVIDIA GPU Computing Toolkit\\CUDA\\v12.1\\bin;C:\\Program Files\\NVIDIA GPU Computing Toolkit\\CUDA\\v12.1\\libnvvp;;C:\\WINDOWS\\system32;C:\\WINDOWS;C:\\WINDOWS\\System32\\Wbem;C:\\WINDOWS\\System32\\WindowsPowerShell\\v1.0\\;C:\\WINDOWS\\System32\\OpenSSH\\;C:\\Program Files\\dotnet\\;C:\\Program Files\\nodejs\\;C:\\Program Files\\Git\\cmd;C:\\Users\\johnny\\AppData\\Local\\Packages\\PythonSoftwareFoundation.Python.3.11_qbz5n2kfra8p0\\LocalCache\\local-packages\\Python311\\Scripts;C:\\Program Files\\Tesseract-OCR;C:\\Program Files\\NVIDIA Corporation\\NVIDIA App\\NvDLISR;C:\\Program Files\\NVIDIA Corporation\\Nsight Compute 2023.1.0\\;C:\\Program Files (x86)\\NVIDIA Corporation\\PhysX\\Common;C:\\Program Files\\NVIDIA Corporation\\NVIDIA NvDLISR;C:\\Program Files\\CMake\\bin;C:\\Users\\johnny\\AppData\\Local\\Microsoft\\WindowsApps;C:\\Users\\johnny\\AppData\\Roaming\\npm;C:\\Users\\johnny\\AppData\\Local\\Programs\\Microsoft VS Code\\bin;C:\\Users\\johnny\\AppData\\Local\\Programs\\Ollama;C:\\Program Files\\Tesseract-OCR;;C:\\Program Files\\NVIDIA GPU Computing Toolkit\\CUDA\\v12.1\\bin;C:\\Program Files\\NVIDIA GPU Computing Toolkit\\CUDA\\v12.1\\libnvvp;;C:\\WINDOWS\\system32;C:\\WINDOWS;C:\\WINDOWS\\System32\\Wbem;C:\\WINDOWS\\System32\\WindowsPowerShell\\v1.0\\;C:\\WINDOWS\\System32\\OpenSSH\\;C:\\Program Files\\dotnet\\;C:\\Program Files\\nodejs\\;C:\\Program Files\\Git\\cmd;C:\\Users\\johnny\\AppData\\Local\\Packages\\PythonSoftwareFoundation.Python.3.11_qbz5n2kfra8p0\\LocalCache\\local-packages\\Python311\\Scripts;C:\\Program Files\\Tesseract-OCR;C:\\Program Files\\NVIDIA Corporation\\NVIDIA App\\NvDLISR;C:\\Program Files\\NVIDIA Corporation\\Nsight Compute 2023.1.0\\;C:\\Program Files (x86)\\NVIDIA Corporation\\PhysX\\Common;C:\\Program Files\\NVIDIA Corporation\\NVIDIA NvDLISR;C:\\Program Files\\CMake\\bin;C:\\Users\\johnny\\AppData\\Local\\Microsoft\\WindowsApps;C:\\Users\\johnny\\AppData\\Roaming\\npm;C:\\Users\\johnny\\AppData\\Local\\Programs\\Microsoft VS Code\\bin;C:\\Users\\johnny\\AppData\\Local\\Programs\\Ollama;C:\\Program Files\\Tesseract-OCR;\n",
      "PATHEXT=.COM;.EXE;.BAT;.CMD;.VBS;.VBE;.JS;.JSE;.WSF;.WSH;.MSC\n",
      "Tesseract at UB Mannheim\n",
      "\n",
      "The Mannheim University Library (UB Mannheim) uses Tesseract to perform text recognition (OCR = optical character\n",
      "recognition) for historical German newspapers (Allgemeine Preubische Staatszeitung, Deutscher Reichsanzeiger). The latest\n",
      "results with text from more than 700000 pages are available online.\n",
      "\n",
      "Tesseract installer for Windows\n",
      "\n",
      "Normally we run Tesseract on Debian GNU Linux, but there was also the need for a Windows version. That's why we have built\n",
      "a Tesseract installer for Windows.\n",
      "\n",
      "WARNING: Tesseract should be either installed in the directory which is suggested during the installation or in a new\n",
      "directory. The uninstaller removes the whole installation directory. If you installed Tesseract in an existing directory, that\n",
      "directory will be removed with all its subdirectories and files.\n",
      "\n",
      "The latest installers can be downloaded here:\n",
      "® tesseract-ocr-w64-setup-5.5.0.20241111.exe (64 bit)\n",
      "\n",
      "There are also older versions for 32 and 64 bit Windows available.\n",
      "\n"
     ]
    }
   ],
   "source": [
    "!set path=C:\\Program Files\\Tesseract-OCR;%path%\n",
    "!set path\n",
    "\n",
    "from PIL import Image\n",
    "import pytesseract #pip install pytesseract first\n",
    "\n",
    "# Load an image using Pillow (PIL)\n",
    "image = Image.open(\"Task1.1_Screenshot.png\")\n",
    "\n",
    "# Perform OCR on the image\n",
    "text = pytesseract.image_to_string(image)\n",
    "\n",
    "print(text)"
   ]
  },
  {
   "cell_type": "markdown",
   "metadata": {},
   "source": [
    "Tesseract supports over 100 languages, and you can even train it for custom languages or fonts. To use a different language, you can download the corresponding trained data files and specify the language in the -l flag.\n",
    "\n",
    "For example, to use Spanish (spa):"
   ]
  },
  {
   "cell_type": "code",
   "execution_count": null,
   "metadata": {},
   "outputs": [],
   "source": [
    "tesseract image.png output -l spa"
   ]
  },
  {
   "cell_type": "markdown",
   "metadata": {},
   "source": [
    "🧑‍💻 Tesseract Best Practices\\\n",
    "Preprocess Images: Always preprocess images by converting to grayscale, adjusting brightness/contrast, and removing noise to improve Tesseract’s accuracy.\n",
    "\n",
    "Use Correct --psm: The Page Segmentation Mode (--psm) plays a crucial role in how Tesseract segments the image and interprets the text. Experiment with different modes for complex documents.\n",
    "\n",
    "Choose the Right Language: Always specify the correct language (-l lang_code) for better accuracy. Tesseract performs poorly when the language is incorrect.\n",
    "\n",
    "Custom Training: For specialized fonts or languages, you can train Tesseract to recognize custom fonts or languages. This is especially useful for handwriting or unusual fonts."
   ]
  },
  {
   "cell_type": "markdown",
   "metadata": {},
   "source": [
    "## Bonus Hands‑on Assignment Sheet\n",
    "here is bonus part of our homework,which focuses on various aspects of data collection, extraction, and cleaning using OCR (Optical Character Recognition) technology like Tesseract, as well as other techniques such as Web Scraping and Automatic Speech Recognition (ASR). The goal is to apply different tools and methods to extract useful information from web pages, PDFs, audio files, and clean the data for further analysis.\n",
    "\n",
    "---\n",
    "### Task Overview\n",
    "\n",
    "| # | 💡 Module / Skill | 🎯 Task Goal | 🛠️ Core Tools | 📌 Deliverables |\n",
    "|---|-------------------|--------------|----------------|-----------------|\n",
    "| **1** | 🌐 *Web Scraping & HTML Cleaning* | **arXiv Paper Abstract Scraper**<br>• Query any subcategory (e.g., *cs.CL*) to fetch the latest 200 papers.<br>• Scrape the `/abs/` page and use **Trafilatura** to clean the content.<br>• Use **Tesseract OCR** to extract abstract text from screenshots of the downloaded pages.<br>• Save the data as JSON: `{url, title, abstract, authors, date}` | `trafilatura`,  `pytesseract`,  | `arxiv_clean.json` (≤1MB) + scraper script |\n",
    "| **2** | 🖼️ *PDF to Text OCR* | **Batch OCR for arXiv PDFs** (same paper set as Task 1).<br>• Use **Tesseract** to convert PDFs to text.<br>• Retain OCR layout (e.g., titles, sections) if needed. | `pytesseract`, `pdf2image` | `pdf_ocr/` folder with TXT files + code notebook |\n",
    "| **3** | 🔊 *Automatic Speech Recognition (ASR)* | **Whisper Transcription Bot** for 10 short NLP conference talks (~3 minutes each).<br>• Use **yt‑dl** to fetch YouTube audio.<br>• Transcribe with **Tesseract** for any OCR-based text in the transcript images.<br>• Save `.jsonl` with timestamps. | `yt-dlp`, `pytesseract` | `talks_transcripts.jsonl` + transcription script |\n",
    "| **4** | 🧹 *Data Cleaning & Deduplication* | **End‑to‑End Cleaner**:<br>• Merge the outputs from Tasks 1‑3 into one dataset.<br>• Steps: language detection → strip HTML noise → use MinHash for deduplication (similarity ≥ 0.7) → remove PII (emails, credit card numbers, phone numbers) → remove repetitive n‑grams. | `langdetect`, `datasketch` | `clean_corpus.txt` + `stats.md` (token count, removal percentage) |\n",
    "\n",
    "\n",
    "\n",
    "### 💬 Resources\n",
    "\n",
    "1. **Trafilatura Quick Start:**  \n",
    "   - [Trafilatura Documentation](https://github.com/adbar/trafilatura)  \n",
    "   - Usage: `trafilatura.extract(html, include_comments=False, include_tables=False)`\n",
    "\n",
    "2. **Tesseract OCR:**  \n",
    "   - [Tesseract OCR GitHub Repository](https://github.com/tesseract-ocr/tesseract)  \n",
    "   - [Tesseract OCR Documentation](https://tesseract-ocr.github.io/)  \n",
    "   - [pytesseract Python Wrapper Documentation](https://github.com/madmaze/pytesseract)  \n",
    "   - Use Tesseract for OCR conversion of PDFs or images. For complex layouts, use **Tesseract’s layout analysis** feature.  \n",
    "     - Example: `text = pytesseract.image_to_string(image, config='--psm 6')`\n",
    "\n",
    "3. **Whisper Automatic Speech Recognition (ASR):**  \n",
    "   - [Whisper GitHub Repository](https://github.com/openai/whisper)  \n",
    "   - [Whisper Documentation](https://github.com/openai/whisper#usage)  \n",
    "   - To use Whisper with Python, follow the setup instructions provided on the official repository.\n",
    "\n",
    "4. **yt-dlp for Downloading YouTube Audio:**  \n",
    "   - [yt-dlp GitHub Repository](https://github.com/yt-dlp/yt-dlp)  \n",
    "   - [yt-dlp Installation and Usage](https://github.com/yt-dlp/yt-dlp#installation)\n",
    "\n",
    "5. **PDF to Image Conversion (Using `pdf2image`):**  \n",
    "   - [pdf2image Documentation](https://pdf2image.readthedocs.io/en/latest/)  \n",
    "   - This library converts PDF pages to images, which you can then process with Tesseract.\n",
    "\n",
    "6. **MinHash for Deduplication:**  \n",
    "   - [Datasketch Documentation](https://datasketch.readthedocs.io/en/latest/)  \n",
    "   - **MinHashLSH** is useful for deduplicating large text corpora by finding similar documents.\n",
    "\n",
    "7. **Cleaning HTML and Removing PII (Personally Identifiable Information):**  \n",
    "   - [BeautifulSoup Documentation](https://www.crummy.com/software/BeautifulSoup/bs4/doc/)  \n",
    "   - **langdetect** Python library for language detection:  \n",
    "     - [langdetect GitHub Repository](https://github.com/Mimino666/langdetect)\n",
    "\n",
    "\n",
    "---\n",
    "\n",
    "\n"
   ]
  }
 ],
 "metadata": {
  "kernelspec": {
   "display_name": "Python 3",
   "language": "python",
   "name": "python3"
  },
  "language_info": {
   "codemirror_mode": {
    "name": "ipython",
    "version": 3
   },
   "file_extension": ".py",
   "mimetype": "text/x-python",
   "name": "python",
   "nbconvert_exporter": "python",
   "pygments_lexer": "ipython3",
   "version": "3.11.9"
  }
 },
 "nbformat": 4,
 "nbformat_minor": 2
}
